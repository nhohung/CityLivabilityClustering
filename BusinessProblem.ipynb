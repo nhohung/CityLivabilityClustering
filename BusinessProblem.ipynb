{
  "nbformat": 4,
  "nbformat_minor": 0,
  "metadata": {
    "colab": {
      "name": "ClusteringCitiesForSimilarLivability.ipynb",
      "provenance": [],
      "collapsed_sections": []
    },
    "kernelspec": {
      "name": "python3",
      "display_name": "Python 3"
    }
  },
  "cells": [
    {
      "cell_type": "markdown",
      "metadata": {
        "id": "BF-V5wOeWXTU",
        "colab_type": "text"
      },
      "source": [
        "# Clustering cities for similar livability"
      ]
    },
    {
      "cell_type": "markdown",
      "metadata": {
        "id": "-Ll5Jq0FWcCw",
        "colab_type": "text"
      },
      "source": [
        "## Business problem\n",
        "\n",
        "It is just about time in your life that someday you may want to move to another city. Could be a new job, could be relocation closer to your family, or could be that you want to try life in a different country. If that day comes, the most nature question you will have is “how is the new city different/similar from my current place”. In this project, I collect 6 democratic information from popular cities in the world, categories their differences, and put similar cities in groups.\n",
        "\n",
        "The information I collect contributes to the so-called liveability index from [this Business Insider article](https://www.businessinsider.com/most-livable-cities-in-the-world-2018-8), including:\n",
        "  - crime rate\n",
        "  - education\n",
        "  - culture\n",
        "  - nature\n",
        "  - health\n",
        "  - infrastructure.\n",
        "  \n",
        "They help you depict most aspect of a city to be consider for living potential.\n",
        "\n",
        "What you can get from the result? If you have to relocate, you can tell if the new city is similar to your place. If you aim for new experience, you can use the cluster to find cities that fit your purpose. Given this, you can have reasonable expectation and plans prior to moving."
      ]
    }
  ]
}