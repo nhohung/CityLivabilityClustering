{
  "nbformat": 4,
  "nbformat_minor": 0,
  "metadata": {
    "colab": {
      "name": "ClusteringCitiesForSimilarLivability.ipynb",
      "provenance": [],
      "collapsed_sections": []
    },
    "kernelspec": {
      "name": "python3",
      "display_name": "Python 3"
    }
  },
  "cells": [
    {
      "cell_type": "markdown",
      "metadata": {
        "id": "BF-V5wOeWXTU",
        "colab_type": "text"
      },
      "source": [
        "# Clustering cities for similar livability"
      ]
    },
    {
      "cell_type": "markdown",
      "metadata": {
        "id": "-Ll5Jq0FWcCw",
        "colab_type": "text"
      },
      "source": [
        "## Data\n",
        "\n",
        "The clustering will be carried out on basic components of selected cities from all over the world. These cities can be chosen based on their size (eg. area, population or economy). Spatial area does not necessary reflect city popularity. Similar reason is applied for population. The economic strength is the most suitable indicator for our purpose. A well-developed city can be large (eg, Vancouver) or small (London), with high population (eg, Beijing) or low (Brussels). I get a list of such cities in [this wiki page](http://en.wikipedia.org/wiki/Globalization_and_World_Cities_Research_Network). With these, we need to acquire information mentioned above.\n",
        "\n",
        "### Crime rate\n",
        "\n",
        "For crime rate, I use the data provided at [Numbeo website](https://www.numbeo.com/). The database is city-indexed and can be requested directly from city name.\n",
        "\n",
        "### Education, culture, nature, health, and infrastructure\n",
        "\n",
        "For the other 5 criteria, I use the Foursquare database to find venues in each category. To request this, I first need each city's coordinate. The latitude and longitude can be requested similar to the crime rate (directly from city name) from [Geodatos website](http://www.geodatos.net/en/coordinates/).\n",
        "\n",
        "For each city represented by a pair of latitude/longitude, I make an explore query by foursquare api, selecting the most popular 100 venues in an area with radius of 5 km. The returned venues’ categories will be put into 5 groups. Each group contains specific non-overlap foursquare categories summarized on [Foursquare development page](https://developer.foursquare.com/docs/resources/categories).\n",
        "\n",
        "Ideally, after acquiring and cleaning data, what I have is a table with the following 9 columns: city name, latitude, longitude, crime index, counts of venues in 5 criteria groups. I will then run the unsupervised clustering on this data. In the result, if an user is interested in looking for places that are similar to his/her interested city, the cities that have the same cluster will be suggested."
      ]
    },
    {
      "cell_type": "code",
      "metadata": {
        "id": "yIbmfCN_dsKB",
        "colab_type": "code",
        "colab": {}
      },
      "source": [
        ""
      ],
      "execution_count": 0,
      "outputs": []
    }
  ]
}